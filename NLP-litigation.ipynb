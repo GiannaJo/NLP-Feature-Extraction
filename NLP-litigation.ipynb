{
 "cells": [
  {
   "cell_type": "markdown",
   "metadata": {},
   "source": [
    "## Read in text file"
   ]
  },
  {
   "cell_type": "code",
   "execution_count": null,
   "metadata": {
    "collapsed": true
   },
   "outputs": [],
   "source": [
    "with open(\"litigation.txt\", \"r\") as f:\n",
    "    raw_text_lines = f.readlines()"
   ]
  },
  {
   "cell_type": "markdown",
   "metadata": {},
   "source": [
    "## Parse out separate cases"
   ]
  },
  {
   "cell_type": "code",
   "execution_count": null,
   "metadata": {
    "collapsed": false
   },
   "outputs": [],
   "source": [
    "import re\n",
    "date_re = re.compile(r\"(January|February|March|April|May|June|July|August|September|October|November|December)\\s[1-3]?[0-9]+,\\s[0-9]+\")"
   ]
  },
  {
   "cell_type": "code",
   "execution_count": null,
   "metadata": {
    "collapsed": false
   },
   "outputs": [],
   "source": [
    "all_heads = []\n",
    "body_indices = []\n",
    "header = \"\"\n",
    "binary = 0\n",
    "start = 0\n",
    "for i, l in enumerate(raw_text_lines):\n",
    "    if l.startswith(\"        \"):\n",
    "        if binary == 0:\n",
    "            if l.strip()[:2].isupper() and l.strip()[:2].isalpha():\n",
    "                binary = 1\n",
    "                body_indices.append((start, i))\n",
    "\n",
    "        if i < len(raw_text_lines):\n",
    "            if re.search(date_re, l) and re.search(date_re, raw_text_lines[i+1]) == None:\n",
    "                header += l\n",
    "                all_heads.append(header)\n",
    "                header = \"\"\n",
    "                binary = 0\n",
    "                start = i + 1\n",
    "            \n",
    "        if binary == 1:\n",
    "            header += l"
   ]
  },
  {
   "cell_type": "code",
   "execution_count": null,
   "metadata": {
    "collapsed": false
   },
   "outputs": [],
   "source": [
    "head_body = []\n",
    "\n",
    "for i, pair in enumerate(body_indices[1:]):\n",
    "    head_body.append((all_heads[i], ''.join(raw_text_lines[pair[0]:pair[1]])))"
   ]
  },
  {
   "cell_type": "code",
   "execution_count": null,
   "metadata": {
    "collapsed": false
   },
   "outputs": [],
   "source": [
    "print(len(head_body))"
   ]
  },
  {
   "cell_type": "code",
   "execution_count": null,
   "metadata": {
    "collapsed": false
   },
   "outputs": [],
   "source": [
    "print(head_body[0][0])"
   ]
  },
  {
   "cell_type": "code",
   "execution_count": null,
   "metadata": {
    "collapsed": false
   },
   "outputs": [],
   "source": [
    "print(head_body[0][1])"
   ]
  },
  {
   "cell_type": "markdown",
   "metadata": {},
   "source": [
    "## Extract information"
   ]
  },
  {
   "cell_type": "code",
   "execution_count": null,
   "metadata": {
    "collapsed": false
   },
   "outputs": [],
   "source": [
    "from nltk.tag import pos_tag\n",
    "from nltk import word_tokenize\n",
    "current = head_body[100][1]\n",
    "outcome = current[current.find(\"OUTCOME:\"):].split(\"\\n\")[0]\n",
    "pos_outcome = pos_tag(word_tokenize(outcome)[2:])\n",
    "print(pos_outcome)"
   ]
  },
  {
   "cell_type": "markdown",
   "metadata": {},
   "source": [
    "## Patent co-referencing"
   ]
  },
  {
   "cell_type": "code",
   "execution_count": null,
   "metadata": {
    "collapsed": false
   },
   "outputs": [],
   "source": [
    "pairs = []\n",
    "pattern = re.compile(r\"Patent No\\. (?P<number>[0-9\\,]+)\\s\\((?:the\\s)?'(?P<alt>[0-9]+) patent\\)\")\n",
    "for x in head_body:\n",
    "    pairs.extend(re.findall(pattern, x[1]))"
   ]
  },
  {
   "cell_type": "code",
   "execution_count": null,
   "metadata": {
    "collapsed": false
   },
   "outputs": [],
   "source": [
    "print(len(pairs))\n",
    "print(pairs[0])"
   ]
  },
  {
   "cell_type": "code",
   "execution_count": null,
   "metadata": {
    "collapsed": false
   },
   "outputs": [],
   "source": [
    "id_dict = {int(k.replace(\",\", \"\")): int(v.replace(\",\", \"\")) for (k, v) in pairs}\n",
    "print(id_dict[5337753])"
   ]
  }
 ],
 "metadata": {
  "kernelspec": {
   "display_name": "Python 3",
   "language": "python",
   "name": "python3"
  },
  "language_info": {
   "codemirror_mode": {
    "name": "ipython",
    "version": 3
   },
   "file_extension": ".py",
   "mimetype": "text/x-python",
   "name": "python",
   "nbconvert_exporter": "python",
   "pygments_lexer": "ipython3",
   "version": "3.4.3"
  }
 },
 "nbformat": 4,
 "nbformat_minor": 0
}
